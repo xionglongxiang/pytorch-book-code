{
 "cells": [
  {
   "cell_type": "code",
   "execution_count": null,
   "metadata": {},
   "outputs": [],
   "source": [
    "import torch\n",
    "import platform\n",
    "print(\"PyTorch version:{}\".format(torch.__version__))\n",
    "print(\"Python version:{}\".format(platform.python_version()))"
   ]
  },
  {
   "cell_type": "markdown",
   "metadata": {},
   "source": [
    "# 第7章 迁移学习"
   ]
  },
  {
   "cell_type": "markdown",
   "metadata": {},
   "source": [
    "## 迁移VGG16"
   ]
  },
  {
   "cell_type": "code",
   "execution_count": null,
   "metadata": {},
   "outputs": [],
   "source": [
    "import torch\n",
    "import torchvision\n",
    "from torchvision import datasets, models, transforms\n",
    "import os\n",
    "#from torch.autograd import Variable\n",
    "import matplotlib.pyplot as plt\n",
    "import time\n",
    "\n",
    "%matplotlib inline"
   ]
  },
  {
   "cell_type": "code",
   "execution_count": null,
   "metadata": {},
   "outputs": [],
   "source": [
    "data_dir = \"DogsVSCats\"\n",
    "data_transform = {x:transforms.Compose([#transforms.Scale([224,224]),\n",
    "                                        transforms.Resize([224,224]),\n",
    "                                        transforms.ToTensor(),\n",
    "                                        transforms.Normalize(mean=[0.5,0.5,0.5], std=[0.5,0.5,0.5])])\n",
    "                  for x in [\"train\", \"valid\"]}\n",
    "\n",
    "image_datasets = {x:datasets.ImageFolder(root = os.path.join(data_dir,x),\n",
    "                                         transform = data_transform[x])\n",
    "                  for x in [\"train\", \"valid\"]}\n",
    "\n",
    "dataloader = {x:torch.utils.data.DataLoader(dataset= image_datasets[x],\n",
    "                                            batch_size = 16,\n",
    "                                            shuffle = True)\n",
    "              for x in [\"train\", \"valid\"]\n",
    "             }"
   ]
  },
  {
   "cell_type": "code",
   "execution_count": null,
   "metadata": {},
   "outputs": [],
   "source": [
    "X_example, y_example = next(iter(dataloader[\"train\"]))\n",
    "example_clasees = image_datasets[\"train\"].classes\n",
    "index_classes = image_datasets[\"train\"].class_to_idx\n",
    "print(example_clasees)\n",
    "print(index_classes)"
   ]
  },
  {
   "cell_type": "code",
   "execution_count": null,
   "metadata": {},
   "outputs": [],
   "source": [
    "model = models.vgg16(pretrained=True)\n",
    "#Use_gpu = torch.cuda.is_available()\n",
    "device = torch.device(\"cuda:0\" if torch.cuda.is_available else \"cpu\")"
   ]
  },
  {
   "cell_type": "code",
   "execution_count": null,
   "metadata": {},
   "outputs": [],
   "source": [
    "for parma in model.parameters():\n",
    "    parma.requires_grad = False\n",
    "    model.classifier = torch.nn.Sequential(torch.nn.Linear(25088, 4096),\n",
    "                                           torch.nn.ReLU(),\n",
    "                                           torch.nn.Dropout(p=0.5),\n",
    "                                           torch.nn.Linear(4096, 4096),\n",
    "                                           torch.nn.ReLU(),\n",
    "                                           torch.nn.Dropout(p=0.5),\n",
    "                                           torch.nn.Linear(4096, 2))\n",
    "#f Use_gpu:\n",
    "#    model = model.cuda()\n",
    "model.to(device)"
   ]
  },
  {
   "cell_type": "code",
   "execution_count": null,
   "metadata": {},
   "outputs": [],
   "source": [
    "cost = torch.nn.CrossEntropyLoss()\n",
    "optimizer = torch.optim.Adam(model.classifier.parameters())\n",
    "loss_f = torch.nn.CrossEntropyLoss()\n",
    "optimizer = torch.optim.Adam(model.classifier.parameters(), lr = 0.00001)\n",
    "epoch_n = 5"
   ]
  },
  {
   "cell_type": "code",
   "execution_count": null,
   "metadata": {},
   "outputs": [],
   "source": [
    "time_open = time.time()\n",
    "for epoch in range(epoch_n):\n",
    "    print(\"Epoch {}/{}\".format(epoch, epoch_n - 1))\n",
    "    print(\"-\"*10)\n",
    "    \n",
    "    for phase in [\"train\", \"valid\"]:\n",
    "        if phase == \"train\":\n",
    "            print(\"Training...\")\n",
    "            model.train(True)\n",
    "        else:\n",
    "            print(\"Validing...\")\n",
    "            model.train(False)\n",
    "            \n",
    "        running_loss = 0.0\n",
    "        running_corrects = 0\n",
    "    \n",
    "        for batch, data in enumerate(dataloader[phase], 1):\n",
    "            X, y = data\n",
    "            #if Use_gpu:\n",
    "            #    X, y = Variable(X.cuda()), Variable(y.cuda())\n",
    "            #else:\n",
    "            #    X, y = Variable(X), Variable(y)\n",
    "            X = X.to(device)\n",
    "            y = y.to(device)\n",
    "        \n",
    "            y_pred = model(X)\n",
    "            _, pred = torch.max(y_pred.data, 1)\n",
    "            optimizer.zero_grad()\n",
    "            loss = loss_f(y_pred, y)\n",
    "        \n",
    "            if phase == \"train\":\n",
    "                loss.backward()\n",
    "                optimizer.step()\n",
    "            \n",
    "            running_loss += loss.data\n",
    "            running_corrects += torch.sum(pred == y.data)\n",
    "               \n",
    "            if batch%500 == 0 and phase ==\"train\":\n",
    "                print(\"Batch {}, Train Loss:{:.4f}, Train ACC:{:.4f}\".format(batch, running_loss/batch, 100*running_corrects/(16*batch)))\n",
    "\n",
    "        epoch_loss = running_loss*16/len(image_datasets[phase])\n",
    "        epoch_acc = 100*running_corrects/len(image_datasets[phase])\n",
    "        print(\"{} Loss:{:.4f} Acc:{:.4f}%\".format(phase, epoch_loss,epoch_acc))\n",
    "            \n",
    "time_end = time.time() - time_open\n",
    "print(time_end)"
   ]
  },
  {
   "cell_type": "markdown",
   "metadata": {},
   "source": [
    "## 迁移ResNet50"
   ]
  },
  {
   "cell_type": "code",
   "execution_count": null,
   "metadata": {},
   "outputs": [],
   "source": [
    "import torch\n",
    "import torchvision\n",
    "from torchvision import datasets, models, transforms\n",
    "import os\n",
    "#from torch.autograd import Variable\n",
    "import matplotlib.pyplot as plt\n",
    "import time\n",
    "%matplotlib inline"
   ]
  },
  {
   "cell_type": "code",
   "execution_count": null,
   "metadata": {},
   "outputs": [],
   "source": [
    "data_dir = \"DogsVSCats\"\n",
    "data_transform = {x:transforms.Compose([#transforms.Scale([224,224]),\n",
    "                                        transforms.Resize([224,224]),\n",
    "                                        transforms.ToTensor(),\n",
    "                                        transforms.Normalize(mean=[0.5,0.5,0.5], std=[0.5,0.5,0.5])])\n",
    "                  for x in [\"train\", \"valid\"]}\n",
    "\n",
    "image_datasets = {x:datasets.ImageFolder(root = os.path.join(data_dir,x),\n",
    "                                         transform = data_transform[x])\n",
    "                  for x in [\"train\", \"valid\"]}\n",
    "\n",
    "dataloader = {x:torch.utils.data.DataLoader(dataset= image_datasets[x],\n",
    "                                            batch_size = 16,\n",
    "                                            shuffle = True)\n",
    "              for x in [\"train\", \"valid\"]}"
   ]
  },
  {
   "cell_type": "code",
   "execution_count": null,
   "metadata": {},
   "outputs": [],
   "source": [
    "model = models.resnet50(pretrained=True)\n",
    "device = torch.device(\"cuda:0\" if torch.cuda.is_available else \"cpu\")"
   ]
  },
  {
   "cell_type": "code",
   "execution_count": null,
   "metadata": {},
   "outputs": [],
   "source": [
    "for parma in model.parameters():\n",
    "    parma.requires_grad = False\n",
    "\n",
    "model.fc = torch.nn.Linear(2048, 2)\n",
    "    \n",
    "#f Use_gpu:\n",
    "#    model = model.cuda()\n",
    "model.to(device)"
   ]
  },
  {
   "cell_type": "code",
   "execution_count": null,
   "metadata": {},
   "outputs": [],
   "source": [
    "cost = torch.nn.CrossEntropyLoss()\n",
    "optimizer = torch.optim.Adam(model.fc.parameters())\n",
    "\n",
    "loss_f = torch.nn.CrossEntropyLoss()\n",
    "optimizer = torch.optim.Adam(model.fc.parameters(), lr = 0.00001)\n",
    "epoch_n = 5"
   ]
  },
  {
   "cell_type": "code",
   "execution_count": null,
   "metadata": {},
   "outputs": [],
   "source": [
    "time_open = time.time()\n",
    "for epoch in range(epoch_n):\n",
    "    print(\"Epoch {}/{}\".format(epoch, epoch_n - 1))\n",
    "    print(\"-\"*10)\n",
    "    \n",
    "    for phase in [\"train\", \"valid\"]:\n",
    "        if phase == \"train\":\n",
    "            print(\"Training...\")\n",
    "            model.train(True)\n",
    "        else:\n",
    "            print(\"Validing...\")\n",
    "            model.train(False)\n",
    "            \n",
    "        running_loss = 0.0\n",
    "        running_corrects = 0\n",
    "        \n",
    "        for batch, data in enumerate(dataloader[phase], 1):\n",
    "            X, y = data\n",
    "            \n",
    "            #if Use_gpu:\n",
    "            #    X, y = Variable(X.cuda()), Variable(y.cuda())\n",
    "            #else:\n",
    "            #    X, y = Variable(X), Variable(y)\n",
    "            X = X.to(device)\n",
    "            y = y.to(device)\n",
    "                \n",
    "                \n",
    "            y_pred = model(X)\n",
    "            _, pred = torch.max(y_pred.data, 1)\n",
    "            optimizer.zero_grad()\n",
    "            loss = loss_f(y_pred, y)\n",
    "            if phase == \"train\":\n",
    "                loss.backward()\n",
    "                optimizer.step()\n",
    "            \n",
    "            running_loss += loss.data\n",
    "            running_corrects += torch.sum(pred == y.data)\n",
    "            \n",
    "            if batch%500 == 0 and phase == \"train\":\n",
    "                print(\"Batch {}, Train Loss:{:.4f}, Train ACC:{:.4f}\".format(batch, running_loss/batch,100*running_corrects/(16*batch)))\n",
    "            \n",
    "        epoch_loss = running_loss*16/len(image_datasets[phase])\n",
    "        epoch_acc = 100*running_corrects/len(image_datasets[phase])\n",
    "        \n",
    "        print(\"{} Loss:{:.4f} Acc:{:.4f}%\".format(phase, epoch_loss,epoch_acc))\n",
    "            \n",
    "time_end = time.time() - time_open\n",
    "print(time_end)"
   ]
  },
  {
   "cell_type": "code",
   "execution_count": null,
   "metadata": {},
   "outputs": [],
   "source": []
  }
 ],
 "metadata": {
  "kernelspec": {
   "display_name": "Python 3",
   "language": "python",
   "name": "python3"
  },
  "language_info": {
   "codemirror_mode": {
    "name": "ipython",
    "version": 3
   },
   "file_extension": ".py",
   "mimetype": "text/x-python",
   "name": "python",
   "nbconvert_exporter": "python",
   "pygments_lexer": "ipython3",
   "version": "3.6.8"
  }
 },
 "nbformat": 4,
 "nbformat_minor": 2
}
